{
  "nbformat": 4,
  "nbformat_minor": 0,
  "metadata": {
    "colab": {
      "provenance": [],
      "authorship_tag": "ABX9TyNGmxzf90u733Z0BygDfp1Y",
      "include_colab_link": true
    },
    "kernelspec": {
      "name": "python3",
      "display_name": "Python 3"
    },
    "language_info": {
      "name": "python"
    }
  },
  "cells": [
    {
      "cell_type": "markdown",
      "metadata": {
        "id": "view-in-github",
        "colab_type": "text"
      },
      "source": [
        "<a href=\"https://colab.research.google.com/github/Shyam1hi/tic-tae-toe/blob/main/Main.ipynb\" target=\"_parent\"><img src=\"https://colab.research.google.com/assets/colab-badge.svg\" alt=\"Open In Colab\"/></a>"
      ]
    },
    {
      "cell_type": "code",
      "execution_count": null,
      "metadata": {
        "id": "kzYiZRraOdNE",
        "colab": {
          "base_uri": "https://localhost:8080/"
        },
        "outputId": "7e6e37ad-d4a4-4e9b-9c15-a776f005f167"
      },
      "outputs": [
        {
          "name": "stdout",
          "output_type": "stream",
          "text": [
            "Enter Your Choice As Vs Computer(Single Player) Or With Friends(Duo Player):2\n"
          ]
        }
      ],
      "source": [
        "import sys\n",
        "\n",
        "def MinMax(boards, player):\n",
        "    winner = analyse(boards)\n",
        "    if winner != 0:\n",
        "        return player * winner\n",
        "    value = -2\n",
        "    pos = -1\n",
        "    for i in range(0, 9):\n",
        "        if boards[i] == 0:\n",
        "            boards[i] = player\n",
        "            score = -MinMax(boards, -player)\n",
        "            boards[i] = 0\n",
        "            if score > value:\n",
        "                value = score\n",
        "                pos = i\n",
        "    if pos == -1:\n",
        "        return 0\n",
        "    return value\n",
        "\n",
        "def comp(boards):\n",
        "    value = -2\n",
        "    pos = -1\n",
        "    for i in range(0, 9):\n",
        "        if boards[i] == 0:\n",
        "            boards[i] = 1\n",
        "            score = -MinMax(boards, -1)\n",
        "            boards[i] = 0\n",
        "            if score > value:\n",
        "                value = score\n",
        "                pos = i\n",
        "    if pos == -1:\n",
        "        print(\"No valid move for the computer. The game is a draw.\")\n",
        "        sys.exit()\n",
        "    boards[pos] = 1\n",
        "\n",
        "\n",
        "def user1(boards):\n",
        "    pos = int(input(\"Enter the O pos:\"))\n",
        "    if boards[pos - 1] != 0:\n",
        "        print(\"Wrong Choice. Position already filled.\")\n",
        "        sys.exit()\n",
        "    boards[pos - 1] = -1\n",
        "\n",
        "\n",
        "def user2(boards):\n",
        "    pos = int(input(\"Enter the X pos:\"))\n",
        "    if boards[pos - 1] != 0:\n",
        "        print(\"Wrong Choice. Position already filled.\")\n",
        "        sys.exit()\n",
        "    boards[pos - 1] = 1\n",
        "\n",
        "\n",
        "def default(boards):\n",
        "    print(\"Current State Of The Board:\\n\")\n",
        "    for i in range(0, 9):\n",
        "        if i > 0 and i % 3 == 0:\n",
        "            print(\"\\n\")\n",
        "        if boards[i] == 0:\n",
        "            print(\"_\\t\", end=\" \")\n",
        "        if boards[i] == 1:\n",
        "            print(\"X\\t\", end=\" \")\n",
        "        if boards[i] == -1:\n",
        "            print(\"O\\t\", end=\" \")\n",
        "    print(\"\\n\\n\")\n",
        "\n",
        "\n",
        "def analyse(boards):\n",
        "    ch = [[0, 1, 2], [3, 4, 5], [6, 7, 8], [0, 3, 6], [1, 4, 7], [2, 5, 8], [0, 4, 8], [2, 4, 6]]\n",
        "    for i in range(0, 8):\n",
        "        if boards[ch[i][0]] != 0 and boards[ch[i][0]] == boards[ch[i][1]] and boards[ch[i][1]] == boards[ch[i][2]]:\n",
        "            return boards[ch[i][0]]\n",
        "    return 0\n",
        "\n",
        "\n",
        "def main():\n",
        "    ch = int(input(\"Enter Your Choice As Vs Computer(Single Player) Or With Friends(Duo Player):\"))\n",
        "    boards = [0, 0, 0, 0, 0, 0, 0, 0, 0]\n",
        "    if ch == 1:\n",
        "        print(\"Computer Choice X And Human Choice O\")\n",
        "        person = int(input(\"Enter Your Choice As 1St Or 2Nd:\"))\n",
        "        for i in range(0, 9):\n",
        "            if analyse(boards) != 0:\n",
        "                break\n",
        "            if i % 2 == 0:\n",
        "                default(boards)\n",
        "                user1(boards)\n",
        "            else:\n",
        "                comp(boards)\n",
        "    else:\n",
        "        for i in range(0, 9):\n",
        "            if analyse(boards) != 0:\n",
        "                break\n",
        "            if i % 2 == 0:\n",
        "                default(boards)\n",
        "                user2(boards)\n",
        "            else:\n",
        "                default(boards)\n",
        "                user1(boards)\n",
        "    winner = analyse(boards)\n",
        "    if winner == 0:\n",
        "        default(boards)\n",
        "        print(\"Draw Match!!!\")\n",
        "    elif winner == 1:\n",
        "        default(boards)\n",
        "        print(\"X Won Match!!!\")\n",
        "    else:\n",
        "        default(boards)\n",
        "        print(\"O Won Match!!!\")\n",
        "\n",
        "main()\n"
      ]
    }
  ]
}